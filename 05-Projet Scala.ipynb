{
 "cells": [
  {
   "cell_type": "markdown",
   "metadata": {},
   "source": [
    "# Projet Scala\n",
    "\n",
    "## Description"
   ]
  },
  {
   "cell_type": "markdown",
   "metadata": {},
   "source": [
    "Dans un établissement scolaire, nous voulons créer une application qui permettra de faire la gestion de l'emploi du temps des cours et des notes des étudiants.\n",
    "Nous avons les entités suivants :\n",
    "\n",
    "Professeur(idProfesseur, nomProfesseur, prenomPro, grade)  \n",
    "Etudiant(idEtudiant, nomEtudiant, prenomEtudiant, niveauEtude)  \n",
    "Salle(numeroSalle, libelleSalle)  \n",
    "Matiere(codeMatiere, libelleMatiere, coeffMatiere)  \n",
    "\n",
    "#### Règles :  \n",
    "\n",
    "Un cours ne peut être effectué que dans une salle avec un professeur à une date donnée. Un étudiant ne peut pas être présent en même temps dans deux cours différents. Un professeur enseigne une seule matière. Un étudiant peut suivre plusieurs matières. Pour valider une matière, l'étudiant doit avoir la moyenne de 10 sur la notes de ses deux devoirs plus sa note d'examen. La moyenne se calcule par la relation suivante : \n",
    "$$[(devoir1 + devoir2)/2 + examen]/2$$\n",
    "\n",
    "#### Attentes :  \n",
    "\n",
    "Vous devez fournir une application conviviale qui doit permettre :\n",
    "- de faire l'allocation des salles en fonction de l'emploi du temps.\n",
    "- de déterminer les salles disponibles entre un intervalle de temps de la journée\n",
    "- de trouver les salles occupées en précisant le nom du cours et le professeur\n",
    "- de lister les notes d'un étudiant\n",
    "- de calculer la moyenne de chaque étudiant\n",
    "- d'afficher les statistiques de l'établissement (moyenne de chaque classe, moyenne de chaque matière, le taux de réussites et d'échecs,  etc.)\n",
    "\n",
    "\n",
    "#### Code source\n",
    "- Creer un repos git (public ou privé) et partagé le repos avec mon mail (limahin10@gmail.com)\n",
    "- Code lisible et bien indenté, packagé\n",
    "- Utiliser de preference IntelliJ ou Sbt l'IDE\n",
    "- fournir un README bien detaillé\n",
    "- Un report pour le démo.\n",
    "\n",
    "#### Note:\n",
    "- Ce projet ne doit se faire que par binome (2 étudiants au maximum). \n",
    "- Dealine : **Lundi 21 Decembre 2020**"
   ]
  },
  {
   "cell_type": "code",
   "execution_count": null,
   "metadata": {},
   "outputs": [],
   "source": []
  },
  {
   "cell_type": "code",
   "execution_count": null,
   "metadata": {},
   "outputs": [],
   "source": []
  }
 ],
 "metadata": {
  "kernelspec": {
   "display_name": "spylon-kernel",
   "language": "scala",
   "name": "spylon-kernel"
  },
  "language_info": {
   "codemirror_mode": "text/x-scala",
   "file_extension": ".scala",
   "help_links": [
    {
     "text": "MetaKernel Magics",
     "url": "https://metakernel.readthedocs.io/en/latest/source/README.html"
    }
   ],
   "mimetype": "text/x-scala",
   "name": "scala",
   "pygments_lexer": "scala",
   "version": "0.4.1"
  }
 },
 "nbformat": 4,
 "nbformat_minor": 4
}
